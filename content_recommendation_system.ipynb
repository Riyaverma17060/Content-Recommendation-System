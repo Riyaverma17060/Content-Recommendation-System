{
 "cells": [
  {
   "cell_type": "markdown",
   "id": "883165fd-7975-424c-9023-5964b5f4f427",
   "metadata": {},
   "source": [
    "# Content Recommendation System "
   ]
  },
  {
   "cell_type": "markdown",
   "id": "3e3c536d-f732-41c6-8d4f-564864220104",
   "metadata": {},
   "source": [
    "# Import Libraries"
   ]
  },
  {
   "cell_type": "code",
   "execution_count": 1,
   "id": "b0f618a7-cd8f-40bc-8f42-063d00e3d50c",
   "metadata": {},
   "outputs": [],
   "source": [
    "import pandas as pd\n",
    "import numpy as np\n",
    "import ast\n",
    "import random\n",
    "import joblib\n",
    "import warnings\n",
    "warnings.filterwarnings(\"ignore\")\n",
    "\n",
    "from sklearn.model_selection import train_test_split\n",
    "from sklearn.preprocessing import StandardScaler\n",
    "from sklearn.ensemble import RandomForestRegressor\n",
    "from sklearn.metrics import r2_score\n",
    "\n",
    "random.seed(42)\n",
    "np.random.seed(42)"
   ]
  },
  {
   "cell_type": "markdown",
   "id": "91fe81c1-8945-4e2b-8747-0dde8140270b",
   "metadata": {},
   "source": [
    "# Exploratory Data Analysis (EDA)"
   ]
  },
  {
   "cell_type": "code",
   "execution_count": 2,
   "id": "2dba409a-72bd-4db6-a591-8d2edf8e243d",
   "metadata": {},
   "outputs": [],
   "source": [
    "df = pd.read_csv(r'C:\\Users\\rohin\\Downloads\\Users.csv')"
   ]
  },
  {
   "cell_type": "code",
   "execution_count": 3,
   "id": "3cb390c6-3c82-4cb3-8b70-fafbd02c624b",
   "metadata": {},
   "outputs": [
    {
     "data": {
      "text/html": [
       "<div>\n",
       "<style scoped>\n",
       "    .dataframe tbody tr th:only-of-type {\n",
       "        vertical-align: middle;\n",
       "    }\n",
       "\n",
       "    .dataframe tbody tr th {\n",
       "        vertical-align: top;\n",
       "    }\n",
       "\n",
       "    .dataframe thead th {\n",
       "        text-align: right;\n",
       "    }\n",
       "</style>\n",
       "<table border=\"1\" class=\"dataframe\">\n",
       "  <thead>\n",
       "    <tr style=\"text-align: right;\">\n",
       "      <th></th>\n",
       "      <th>user_id</th>\n",
       "      <th>age</th>\n",
       "      <th>gender</th>\n",
       "      <th>top_3_interests</th>\n",
       "      <th>past_engagement_score</th>\n",
       "    </tr>\n",
       "  </thead>\n",
       "  <tbody>\n",
       "    <tr>\n",
       "      <th>0</th>\n",
       "      <td>U1</td>\n",
       "      <td>24</td>\n",
       "      <td>F</td>\n",
       "      <td>sports, art, gaming</td>\n",
       "      <td>0.61</td>\n",
       "    </tr>\n",
       "    <tr>\n",
       "      <th>1</th>\n",
       "      <td>U2</td>\n",
       "      <td>32</td>\n",
       "      <td>F</td>\n",
       "      <td>travel, food, fashion</td>\n",
       "      <td>0.93</td>\n",
       "    </tr>\n",
       "    <tr>\n",
       "      <th>2</th>\n",
       "      <td>U3</td>\n",
       "      <td>28</td>\n",
       "      <td>Other</td>\n",
       "      <td>sports, travel, fashion</td>\n",
       "      <td>0.40</td>\n",
       "    </tr>\n",
       "    <tr>\n",
       "      <th>3</th>\n",
       "      <td>U4</td>\n",
       "      <td>25</td>\n",
       "      <td>M</td>\n",
       "      <td>fashion, music, tech</td>\n",
       "      <td>0.53</td>\n",
       "    </tr>\n",
       "    <tr>\n",
       "      <th>4</th>\n",
       "      <td>U5</td>\n",
       "      <td>24</td>\n",
       "      <td>M</td>\n",
       "      <td>fashion, food, fitness</td>\n",
       "      <td>0.80</td>\n",
       "    </tr>\n",
       "    <tr>\n",
       "      <th>5</th>\n",
       "      <td>U6</td>\n",
       "      <td>28</td>\n",
       "      <td>M</td>\n",
       "      <td>fashion, food, fitness</td>\n",
       "      <td>0.38</td>\n",
       "    </tr>\n",
       "    <tr>\n",
       "      <th>6</th>\n",
       "      <td>U7</td>\n",
       "      <td>28</td>\n",
       "      <td>M</td>\n",
       "      <td>food, fashion, art</td>\n",
       "      <td>0.26</td>\n",
       "    </tr>\n",
       "    <tr>\n",
       "      <th>7</th>\n",
       "      <td>U8</td>\n",
       "      <td>21</td>\n",
       "      <td>M</td>\n",
       "      <td>food, sports, gaming</td>\n",
       "      <td>0.43</td>\n",
       "    </tr>\n",
       "    <tr>\n",
       "      <th>8</th>\n",
       "      <td>U9</td>\n",
       "      <td>25</td>\n",
       "      <td>M</td>\n",
       "      <td>art, travel, sports</td>\n",
       "      <td>0.33</td>\n",
       "    </tr>\n",
       "    <tr>\n",
       "      <th>9</th>\n",
       "      <td>U10</td>\n",
       "      <td>20</td>\n",
       "      <td>F</td>\n",
       "      <td>fashion, music, literature</td>\n",
       "      <td>0.94</td>\n",
       "    </tr>\n",
       "    <tr>\n",
       "      <th>10</th>\n",
       "      <td>U11</td>\n",
       "      <td>19</td>\n",
       "      <td>M</td>\n",
       "      <td>gaming, literature, tech</td>\n",
       "      <td>0.85</td>\n",
       "    </tr>\n",
       "    <tr>\n",
       "      <th>11</th>\n",
       "      <td>U12</td>\n",
       "      <td>29</td>\n",
       "      <td>M</td>\n",
       "      <td>fitness, travel, gaming</td>\n",
       "      <td>0.71</td>\n",
       "    </tr>\n",
       "    <tr>\n",
       "      <th>12</th>\n",
       "      <td>U13</td>\n",
       "      <td>23</td>\n",
       "      <td>F</td>\n",
       "      <td>food, sports, art</td>\n",
       "      <td>0.90</td>\n",
       "    </tr>\n",
       "    <tr>\n",
       "      <th>13</th>\n",
       "      <td>U14</td>\n",
       "      <td>19</td>\n",
       "      <td>M</td>\n",
       "      <td>sports, fitness, travel</td>\n",
       "      <td>0.84</td>\n",
       "    </tr>\n",
       "    <tr>\n",
       "      <th>14</th>\n",
       "      <td>U15</td>\n",
       "      <td>18</td>\n",
       "      <td>F</td>\n",
       "      <td>fitness, art, gaming</td>\n",
       "      <td>0.35</td>\n",
       "    </tr>\n",
       "    <tr>\n",
       "      <th>15</th>\n",
       "      <td>U16</td>\n",
       "      <td>29</td>\n",
       "      <td>M</td>\n",
       "      <td>food, gaming, travel</td>\n",
       "      <td>0.91</td>\n",
       "    </tr>\n",
       "    <tr>\n",
       "      <th>16</th>\n",
       "      <td>U17</td>\n",
       "      <td>29</td>\n",
       "      <td>Other</td>\n",
       "      <td>music, travel, gaming</td>\n",
       "      <td>0.63</td>\n",
       "    </tr>\n",
       "    <tr>\n",
       "      <th>17</th>\n",
       "      <td>U18</td>\n",
       "      <td>34</td>\n",
       "      <td>F</td>\n",
       "      <td>tech, art, fitness</td>\n",
       "      <td>0.85</td>\n",
       "    </tr>\n",
       "    <tr>\n",
       "      <th>18</th>\n",
       "      <td>U19</td>\n",
       "      <td>27</td>\n",
       "      <td>M</td>\n",
       "      <td>sports, gaming, fashion</td>\n",
       "      <td>0.92</td>\n",
       "    </tr>\n",
       "    <tr>\n",
       "      <th>19</th>\n",
       "      <td>U20</td>\n",
       "      <td>33</td>\n",
       "      <td>M</td>\n",
       "      <td>music, food, travel</td>\n",
       "      <td>0.45</td>\n",
       "    </tr>\n",
       "    <tr>\n",
       "      <th>20</th>\n",
       "      <td>U21</td>\n",
       "      <td>32</td>\n",
       "      <td>F</td>\n",
       "      <td>literature, gaming, tech</td>\n",
       "      <td>0.29</td>\n",
       "    </tr>\n",
       "    <tr>\n",
       "      <th>21</th>\n",
       "      <td>U22</td>\n",
       "      <td>32</td>\n",
       "      <td>F</td>\n",
       "      <td>fashion, travel, food</td>\n",
       "      <td>0.38</td>\n",
       "    </tr>\n",
       "    <tr>\n",
       "      <th>22</th>\n",
       "      <td>U23</td>\n",
       "      <td>29</td>\n",
       "      <td>F</td>\n",
       "      <td>sports, food, literature</td>\n",
       "      <td>0.54</td>\n",
       "    </tr>\n",
       "    <tr>\n",
       "      <th>23</th>\n",
       "      <td>U24</td>\n",
       "      <td>20</td>\n",
       "      <td>F</td>\n",
       "      <td>fashion, art, food</td>\n",
       "      <td>0.85</td>\n",
       "    </tr>\n",
       "    <tr>\n",
       "      <th>24</th>\n",
       "      <td>U25</td>\n",
       "      <td>22</td>\n",
       "      <td>M</td>\n",
       "      <td>tech, travel, fitness</td>\n",
       "      <td>0.89</td>\n",
       "    </tr>\n",
       "    <tr>\n",
       "      <th>25</th>\n",
       "      <td>U26</td>\n",
       "      <td>24</td>\n",
       "      <td>M</td>\n",
       "      <td>food, fashion, sports</td>\n",
       "      <td>0.21</td>\n",
       "    </tr>\n",
       "    <tr>\n",
       "      <th>26</th>\n",
       "      <td>U27</td>\n",
       "      <td>26</td>\n",
       "      <td>M</td>\n",
       "      <td>art, gaming, travel</td>\n",
       "      <td>0.61</td>\n",
       "    </tr>\n",
       "    <tr>\n",
       "      <th>27</th>\n",
       "      <td>U28</td>\n",
       "      <td>24</td>\n",
       "      <td>F</td>\n",
       "      <td>fashion, travel, food</td>\n",
       "      <td>0.53</td>\n",
       "    </tr>\n",
       "    <tr>\n",
       "      <th>28</th>\n",
       "      <td>U29</td>\n",
       "      <td>21</td>\n",
       "      <td>F</td>\n",
       "      <td>travel, gaming, fitness</td>\n",
       "      <td>0.38</td>\n",
       "    </tr>\n",
       "    <tr>\n",
       "      <th>29</th>\n",
       "      <td>U30</td>\n",
       "      <td>31</td>\n",
       "      <td>M</td>\n",
       "      <td>literature, gaming, tech</td>\n",
       "      <td>0.30</td>\n",
       "    </tr>\n",
       "    <tr>\n",
       "      <th>30</th>\n",
       "      <td>U31</td>\n",
       "      <td>26</td>\n",
       "      <td>M</td>\n",
       "      <td>music, sports, travel</td>\n",
       "      <td>0.47</td>\n",
       "    </tr>\n",
       "    <tr>\n",
       "      <th>31</th>\n",
       "      <td>U32</td>\n",
       "      <td>19</td>\n",
       "      <td>M</td>\n",
       "      <td>gaming, food, literature</td>\n",
       "      <td>0.95</td>\n",
       "    </tr>\n",
       "    <tr>\n",
       "      <th>32</th>\n",
       "      <td>U33</td>\n",
       "      <td>32</td>\n",
       "      <td>M</td>\n",
       "      <td>tech, sports, music</td>\n",
       "      <td>0.46</td>\n",
       "    </tr>\n",
       "    <tr>\n",
       "      <th>33</th>\n",
       "      <td>U34</td>\n",
       "      <td>24</td>\n",
       "      <td>F</td>\n",
       "      <td>sports, fashion, gaming</td>\n",
       "      <td>0.62</td>\n",
       "    </tr>\n",
       "    <tr>\n",
       "      <th>34</th>\n",
       "      <td>U35</td>\n",
       "      <td>29</td>\n",
       "      <td>F</td>\n",
       "      <td>food, tech, music</td>\n",
       "      <td>0.76</td>\n",
       "    </tr>\n",
       "    <tr>\n",
       "      <th>35</th>\n",
       "      <td>U36</td>\n",
       "      <td>25</td>\n",
       "      <td>F</td>\n",
       "      <td>travel, fitness, food</td>\n",
       "      <td>0.49</td>\n",
       "    </tr>\n",
       "    <tr>\n",
       "      <th>36</th>\n",
       "      <td>U37</td>\n",
       "      <td>32</td>\n",
       "      <td>F</td>\n",
       "      <td>fitness, fashion, food</td>\n",
       "      <td>0.98</td>\n",
       "    </tr>\n",
       "    <tr>\n",
       "      <th>37</th>\n",
       "      <td>U38</td>\n",
       "      <td>20</td>\n",
       "      <td>M</td>\n",
       "      <td>gaming, art, fashion</td>\n",
       "      <td>0.97</td>\n",
       "    </tr>\n",
       "    <tr>\n",
       "      <th>38</th>\n",
       "      <td>U39</td>\n",
       "      <td>31</td>\n",
       "      <td>F</td>\n",
       "      <td>literature, fitness, art</td>\n",
       "      <td>0.40</td>\n",
       "    </tr>\n",
       "    <tr>\n",
       "      <th>39</th>\n",
       "      <td>U40</td>\n",
       "      <td>34</td>\n",
       "      <td>F</td>\n",
       "      <td>fashion, food, sports</td>\n",
       "      <td>0.60</td>\n",
       "    </tr>\n",
       "    <tr>\n",
       "      <th>40</th>\n",
       "      <td>U41</td>\n",
       "      <td>21</td>\n",
       "      <td>F</td>\n",
       "      <td>sports, literature, fashion</td>\n",
       "      <td>0.44</td>\n",
       "    </tr>\n",
       "    <tr>\n",
       "      <th>41</th>\n",
       "      <td>U42</td>\n",
       "      <td>25</td>\n",
       "      <td>F</td>\n",
       "      <td>literature, fashion, art</td>\n",
       "      <td>0.43</td>\n",
       "    </tr>\n",
       "    <tr>\n",
       "      <th>42</th>\n",
       "      <td>U43</td>\n",
       "      <td>21</td>\n",
       "      <td>F</td>\n",
       "      <td>tech, fitness, food</td>\n",
       "      <td>0.23</td>\n",
       "    </tr>\n",
       "    <tr>\n",
       "      <th>43</th>\n",
       "      <td>U44</td>\n",
       "      <td>19</td>\n",
       "      <td>F</td>\n",
       "      <td>food, literature, travel</td>\n",
       "      <td>0.69</td>\n",
       "    </tr>\n",
       "    <tr>\n",
       "      <th>44</th>\n",
       "      <td>U45</td>\n",
       "      <td>23</td>\n",
       "      <td>M</td>\n",
       "      <td>food, sports, fitness</td>\n",
       "      <td>0.60</td>\n",
       "    </tr>\n",
       "    <tr>\n",
       "      <th>45</th>\n",
       "      <td>U46</td>\n",
       "      <td>27</td>\n",
       "      <td>M</td>\n",
       "      <td>music, literature, food</td>\n",
       "      <td>0.24</td>\n",
       "    </tr>\n",
       "    <tr>\n",
       "      <th>46</th>\n",
       "      <td>U47</td>\n",
       "      <td>21</td>\n",
       "      <td>M</td>\n",
       "      <td>music, sports, fitness</td>\n",
       "      <td>0.42</td>\n",
       "    </tr>\n",
       "    <tr>\n",
       "      <th>47</th>\n",
       "      <td>U48</td>\n",
       "      <td>29</td>\n",
       "      <td>M</td>\n",
       "      <td>gaming, literature, travel</td>\n",
       "      <td>0.93</td>\n",
       "    </tr>\n",
       "    <tr>\n",
       "      <th>48</th>\n",
       "      <td>U49</td>\n",
       "      <td>19</td>\n",
       "      <td>F</td>\n",
       "      <td>music, art, fashion</td>\n",
       "      <td>0.39</td>\n",
       "    </tr>\n",
       "    <tr>\n",
       "      <th>49</th>\n",
       "      <td>U50</td>\n",
       "      <td>27</td>\n",
       "      <td>M</td>\n",
       "      <td>music, travel, fitness</td>\n",
       "      <td>0.32</td>\n",
       "    </tr>\n",
       "  </tbody>\n",
       "</table>\n",
       "</div>"
      ],
      "text/plain": [
       "   user_id  age gender              top_3_interests  past_engagement_score\n",
       "0       U1   24      F          sports, art, gaming                   0.61\n",
       "1       U2   32      F        travel, food, fashion                   0.93\n",
       "2       U3   28  Other      sports, travel, fashion                   0.40\n",
       "3       U4   25      M         fashion, music, tech                   0.53\n",
       "4       U5   24      M       fashion, food, fitness                   0.80\n",
       "5       U6   28      M       fashion, food, fitness                   0.38\n",
       "6       U7   28      M           food, fashion, art                   0.26\n",
       "7       U8   21      M         food, sports, gaming                   0.43\n",
       "8       U9   25      M          art, travel, sports                   0.33\n",
       "9      U10   20      F   fashion, music, literature                   0.94\n",
       "10     U11   19      M     gaming, literature, tech                   0.85\n",
       "11     U12   29      M      fitness, travel, gaming                   0.71\n",
       "12     U13   23      F            food, sports, art                   0.90\n",
       "13     U14   19      M      sports, fitness, travel                   0.84\n",
       "14     U15   18      F         fitness, art, gaming                   0.35\n",
       "15     U16   29      M         food, gaming, travel                   0.91\n",
       "16     U17   29  Other        music, travel, gaming                   0.63\n",
       "17     U18   34      F           tech, art, fitness                   0.85\n",
       "18     U19   27      M      sports, gaming, fashion                   0.92\n",
       "19     U20   33      M          music, food, travel                   0.45\n",
       "20     U21   32      F     literature, gaming, tech                   0.29\n",
       "21     U22   32      F        fashion, travel, food                   0.38\n",
       "22     U23   29      F     sports, food, literature                   0.54\n",
       "23     U24   20      F           fashion, art, food                   0.85\n",
       "24     U25   22      M        tech, travel, fitness                   0.89\n",
       "25     U26   24      M        food, fashion, sports                   0.21\n",
       "26     U27   26      M          art, gaming, travel                   0.61\n",
       "27     U28   24      F        fashion, travel, food                   0.53\n",
       "28     U29   21      F      travel, gaming, fitness                   0.38\n",
       "29     U30   31      M     literature, gaming, tech                   0.30\n",
       "30     U31   26      M        music, sports, travel                   0.47\n",
       "31     U32   19      M     gaming, food, literature                   0.95\n",
       "32     U33   32      M          tech, sports, music                   0.46\n",
       "33     U34   24      F      sports, fashion, gaming                   0.62\n",
       "34     U35   29      F            food, tech, music                   0.76\n",
       "35     U36   25      F        travel, fitness, food                   0.49\n",
       "36     U37   32      F       fitness, fashion, food                   0.98\n",
       "37     U38   20      M         gaming, art, fashion                   0.97\n",
       "38     U39   31      F     literature, fitness, art                   0.40\n",
       "39     U40   34      F        fashion, food, sports                   0.60\n",
       "40     U41   21      F  sports, literature, fashion                   0.44\n",
       "41     U42   25      F     literature, fashion, art                   0.43\n",
       "42     U43   21      F          tech, fitness, food                   0.23\n",
       "43     U44   19      F     food, literature, travel                   0.69\n",
       "44     U45   23      M        food, sports, fitness                   0.60\n",
       "45     U46   27      M      music, literature, food                   0.24\n",
       "46     U47   21      M       music, sports, fitness                   0.42\n",
       "47     U48   29      M   gaming, literature, travel                   0.93\n",
       "48     U49   19      F          music, art, fashion                   0.39\n",
       "49     U50   27      M       music, travel, fitness                   0.32"
      ]
     },
     "execution_count": 3,
     "metadata": {},
     "output_type": "execute_result"
    }
   ],
   "source": [
    "df"
   ]
  },
  {
   "cell_type": "code",
   "execution_count": 4,
   "id": "f1e3d494-dd6e-404a-837c-3b65099ba9b0",
   "metadata": {},
   "outputs": [],
   "source": [
    "df1 = pd.read_csv(r'C:\\Users\\rohin\\Downloads\\Posts.csv')"
   ]
  },
  {
   "cell_type": "code",
   "execution_count": 5,
   "id": "aa6a0d4c-4d93-4ba4-8c05-875b11a133e3",
   "metadata": {},
   "outputs": [
    {
     "data": {
      "text/html": [
       "<div>\n",
       "<style scoped>\n",
       "    .dataframe tbody tr th:only-of-type {\n",
       "        vertical-align: middle;\n",
       "    }\n",
       "\n",
       "    .dataframe tbody tr th {\n",
       "        vertical-align: top;\n",
       "    }\n",
       "\n",
       "    .dataframe thead th {\n",
       "        text-align: right;\n",
       "    }\n",
       "</style>\n",
       "<table border=\"1\" class=\"dataframe\">\n",
       "  <thead>\n",
       "    <tr style=\"text-align: right;\">\n",
       "      <th></th>\n",
       "      <th>post_id</th>\n",
       "      <th>creator_id</th>\n",
       "      <th>content_type</th>\n",
       "      <th>tags</th>\n",
       "    </tr>\n",
       "  </thead>\n",
       "  <tbody>\n",
       "    <tr>\n",
       "      <th>0</th>\n",
       "      <td>P1</td>\n",
       "      <td>U44</td>\n",
       "      <td>video</td>\n",
       "      <td>sports, food</td>\n",
       "    </tr>\n",
       "    <tr>\n",
       "      <th>1</th>\n",
       "      <td>P2</td>\n",
       "      <td>U26</td>\n",
       "      <td>video</td>\n",
       "      <td>music, travel</td>\n",
       "    </tr>\n",
       "    <tr>\n",
       "      <th>2</th>\n",
       "      <td>P3</td>\n",
       "      <td>U32</td>\n",
       "      <td>text</td>\n",
       "      <td>sports, travel</td>\n",
       "    </tr>\n",
       "    <tr>\n",
       "      <th>3</th>\n",
       "      <td>P4</td>\n",
       "      <td>U6</td>\n",
       "      <td>image</td>\n",
       "      <td>music, gaming</td>\n",
       "    </tr>\n",
       "    <tr>\n",
       "      <th>4</th>\n",
       "      <td>P5</td>\n",
       "      <td>U32</td>\n",
       "      <td>image</td>\n",
       "      <td>food, fashion</td>\n",
       "    </tr>\n",
       "    <tr>\n",
       "      <th>...</th>\n",
       "      <td>...</td>\n",
       "      <td>...</td>\n",
       "      <td>...</td>\n",
       "      <td>...</td>\n",
       "    </tr>\n",
       "    <tr>\n",
       "      <th>95</th>\n",
       "      <td>P96</td>\n",
       "      <td>U14</td>\n",
       "      <td>video</td>\n",
       "      <td>music, fashion</td>\n",
       "    </tr>\n",
       "    <tr>\n",
       "      <th>96</th>\n",
       "      <td>P97</td>\n",
       "      <td>U21</td>\n",
       "      <td>video</td>\n",
       "      <td>travel, sports</td>\n",
       "    </tr>\n",
       "    <tr>\n",
       "      <th>97</th>\n",
       "      <td>P98</td>\n",
       "      <td>U48</td>\n",
       "      <td>text</td>\n",
       "      <td>tech</td>\n",
       "    </tr>\n",
       "    <tr>\n",
       "      <th>98</th>\n",
       "      <td>P99</td>\n",
       "      <td>U20</td>\n",
       "      <td>image</td>\n",
       "      <td>gaming, music</td>\n",
       "    </tr>\n",
       "    <tr>\n",
       "      <th>99</th>\n",
       "      <td>P100</td>\n",
       "      <td>U8</td>\n",
       "      <td>image</td>\n",
       "      <td>art</td>\n",
       "    </tr>\n",
       "  </tbody>\n",
       "</table>\n",
       "<p>100 rows × 4 columns</p>\n",
       "</div>"
      ],
      "text/plain": [
       "   post_id creator_id content_type            tags\n",
       "0       P1        U44        video    sports, food\n",
       "1       P2        U26        video   music, travel\n",
       "2       P3        U32         text  sports, travel\n",
       "3       P4         U6        image   music, gaming\n",
       "4       P5        U32        image   food, fashion\n",
       "..     ...        ...          ...             ...\n",
       "95     P96        U14        video  music, fashion\n",
       "96     P97        U21        video  travel, sports\n",
       "97     P98        U48         text            tech\n",
       "98     P99        U20        image   gaming, music\n",
       "99    P100         U8        image             art\n",
       "\n",
       "[100 rows x 4 columns]"
      ]
     },
     "execution_count": 5,
     "metadata": {},
     "output_type": "execute_result"
    }
   ],
   "source": [
    "df1"
   ]
  },
  {
   "cell_type": "code",
   "execution_count": 6,
   "id": "673e84c6-5c79-4e89-99d4-85529381bc4e",
   "metadata": {},
   "outputs": [],
   "source": [
    "df2 = pd.read_csv(r'C:\\Users\\rohin\\Downloads\\Engagements.csv')"
   ]
  },
  {
   "cell_type": "code",
   "execution_count": 7,
   "id": "d8e1990c-45cd-4df6-9230-ee9b67402235",
   "metadata": {},
   "outputs": [
    {
     "data": {
      "text/html": [
       "<div>\n",
       "<style scoped>\n",
       "    .dataframe tbody tr th:only-of-type {\n",
       "        vertical-align: middle;\n",
       "    }\n",
       "\n",
       "    .dataframe tbody tr th {\n",
       "        vertical-align: top;\n",
       "    }\n",
       "\n",
       "    .dataframe thead th {\n",
       "        text-align: right;\n",
       "    }\n",
       "</style>\n",
       "<table border=\"1\" class=\"dataframe\">\n",
       "  <thead>\n",
       "    <tr style=\"text-align: right;\">\n",
       "      <th></th>\n",
       "      <th>user_id</th>\n",
       "      <th>post_id</th>\n",
       "      <th>engagement</th>\n",
       "    </tr>\n",
       "  </thead>\n",
       "  <tbody>\n",
       "    <tr>\n",
       "      <th>0</th>\n",
       "      <td>U1</td>\n",
       "      <td>P52</td>\n",
       "      <td>1</td>\n",
       "    </tr>\n",
       "    <tr>\n",
       "      <th>1</th>\n",
       "      <td>U1</td>\n",
       "      <td>P44</td>\n",
       "      <td>0</td>\n",
       "    </tr>\n",
       "    <tr>\n",
       "      <th>2</th>\n",
       "      <td>U1</td>\n",
       "      <td>P1</td>\n",
       "      <td>1</td>\n",
       "    </tr>\n",
       "    <tr>\n",
       "      <th>3</th>\n",
       "      <td>U1</td>\n",
       "      <td>P4</td>\n",
       "      <td>1</td>\n",
       "    </tr>\n",
       "    <tr>\n",
       "      <th>4</th>\n",
       "      <td>U1</td>\n",
       "      <td>P65</td>\n",
       "      <td>0</td>\n",
       "    </tr>\n",
       "    <tr>\n",
       "      <th>...</th>\n",
       "      <td>...</td>\n",
       "      <td>...</td>\n",
       "      <td>...</td>\n",
       "    </tr>\n",
       "    <tr>\n",
       "      <th>995</th>\n",
       "      <td>U50</td>\n",
       "      <td>P57</td>\n",
       "      <td>0</td>\n",
       "    </tr>\n",
       "    <tr>\n",
       "      <th>996</th>\n",
       "      <td>U50</td>\n",
       "      <td>P20</td>\n",
       "      <td>0</td>\n",
       "    </tr>\n",
       "    <tr>\n",
       "      <th>997</th>\n",
       "      <td>U50</td>\n",
       "      <td>P92</td>\n",
       "      <td>1</td>\n",
       "    </tr>\n",
       "    <tr>\n",
       "      <th>998</th>\n",
       "      <td>U50</td>\n",
       "      <td>P94</td>\n",
       "      <td>1</td>\n",
       "    </tr>\n",
       "    <tr>\n",
       "      <th>999</th>\n",
       "      <td>U50</td>\n",
       "      <td>P81</td>\n",
       "      <td>1</td>\n",
       "    </tr>\n",
       "  </tbody>\n",
       "</table>\n",
       "<p>1000 rows × 3 columns</p>\n",
       "</div>"
      ],
      "text/plain": [
       "    user_id post_id  engagement\n",
       "0        U1     P52           1\n",
       "1        U1     P44           0\n",
       "2        U1      P1           1\n",
       "3        U1      P4           1\n",
       "4        U1     P65           0\n",
       "..      ...     ...         ...\n",
       "995     U50     P57           0\n",
       "996     U50     P20           0\n",
       "997     U50     P92           1\n",
       "998     U50     P94           1\n",
       "999     U50     P81           1\n",
       "\n",
       "[1000 rows x 3 columns]"
      ]
     },
     "execution_count": 7,
     "metadata": {},
     "output_type": "execute_result"
    }
   ],
   "source": [
    "df2"
   ]
  },
  {
   "cell_type": "code",
   "execution_count": 8,
   "id": "4bff28e2-370c-4ed9-a80d-b30c2438a62a",
   "metadata": {},
   "outputs": [
    {
     "data": {
      "text/plain": [
       "(50, 5)"
      ]
     },
     "execution_count": 8,
     "metadata": {},
     "output_type": "execute_result"
    }
   ],
   "source": [
    "df.shape"
   ]
  },
  {
   "cell_type": "code",
   "execution_count": 9,
   "id": "ed3fb40e-0de7-496e-8958-c09f91e3c896",
   "metadata": {},
   "outputs": [
    {
     "data": {
      "text/plain": [
       "Index(['user_id', 'age', 'gender', 'top_3_interests', 'past_engagement_score'], dtype='object')"
      ]
     },
     "execution_count": 9,
     "metadata": {},
     "output_type": "execute_result"
    }
   ],
   "source": [
    "df.columns"
   ]
  },
  {
   "cell_type": "code",
   "execution_count": 10,
   "id": "46dd4b7a-64db-4ca9-a719-c5cbde88b755",
   "metadata": {},
   "outputs": [
    {
     "name": "stdout",
     "output_type": "stream",
     "text": [
      "<class 'pandas.core.frame.DataFrame'>\n",
      "RangeIndex: 50 entries, 0 to 49\n",
      "Data columns (total 5 columns):\n",
      " #   Column                 Non-Null Count  Dtype  \n",
      "---  ------                 --------------  -----  \n",
      " 0   user_id                50 non-null     object \n",
      " 1   age                    50 non-null     int64  \n",
      " 2   gender                 50 non-null     object \n",
      " 3   top_3_interests        50 non-null     object \n",
      " 4   past_engagement_score  50 non-null     float64\n",
      "dtypes: float64(1), int64(1), object(3)\n",
      "memory usage: 2.1+ KB\n"
     ]
    }
   ],
   "source": [
    "df.info()"
   ]
  },
  {
   "cell_type": "code",
   "execution_count": 11,
   "id": "1bc2ef41-d340-4c40-9bef-ee131850259a",
   "metadata": {},
   "outputs": [
    {
     "data": {
      "text/plain": [
       "user_id                  0\n",
       "age                      0\n",
       "gender                   0\n",
       "top_3_interests          0\n",
       "past_engagement_score    0\n",
       "dtype: int64"
      ]
     },
     "execution_count": 11,
     "metadata": {},
     "output_type": "execute_result"
    }
   ],
   "source": [
    "df.isnull().sum()"
   ]
  },
  {
   "cell_type": "code",
   "execution_count": 12,
   "id": "314a9889-c8a8-4119-9983-572062b348d2",
   "metadata": {},
   "outputs": [
    {
     "data": {
      "text/plain": [
       "0"
      ]
     },
     "execution_count": 12,
     "metadata": {},
     "output_type": "execute_result"
    }
   ],
   "source": [
    "df.duplicated().sum()"
   ]
  },
  {
   "cell_type": "markdown",
   "id": "fb5f43f4-9522-42c0-944a-cd78566c9e46",
   "metadata": {},
   "source": [
    "# Basic Statistical Overview"
   ]
  },
  {
   "cell_type": "code",
   "execution_count": 13,
   "id": "2bd906d4-00b5-4b1a-b486-ca0cc2e274e2",
   "metadata": {},
   "outputs": [
    {
     "data": {
      "text/html": [
       "<div>\n",
       "<style scoped>\n",
       "    .dataframe tbody tr th:only-of-type {\n",
       "        vertical-align: middle;\n",
       "    }\n",
       "\n",
       "    .dataframe tbody tr th {\n",
       "        vertical-align: top;\n",
       "    }\n",
       "\n",
       "    .dataframe thead th {\n",
       "        text-align: right;\n",
       "    }\n",
       "</style>\n",
       "<table border=\"1\" class=\"dataframe\">\n",
       "  <thead>\n",
       "    <tr style=\"text-align: right;\">\n",
       "      <th></th>\n",
       "      <th>count</th>\n",
       "      <th>mean</th>\n",
       "      <th>std</th>\n",
       "      <th>min</th>\n",
       "      <th>25%</th>\n",
       "      <th>50%</th>\n",
       "      <th>75%</th>\n",
       "      <th>max</th>\n",
       "    </tr>\n",
       "  </thead>\n",
       "  <tbody>\n",
       "    <tr>\n",
       "      <th>age</th>\n",
       "      <td>50.0</td>\n",
       "      <td>25.6000</td>\n",
       "      <td>4.668610</td>\n",
       "      <td>18.00</td>\n",
       "      <td>21.0000</td>\n",
       "      <td>25.000</td>\n",
       "      <td>29.0000</td>\n",
       "      <td>34.00</td>\n",
       "    </tr>\n",
       "    <tr>\n",
       "      <th>past_engagement_score</th>\n",
       "      <td>50.0</td>\n",
       "      <td>0.5878</td>\n",
       "      <td>0.240682</td>\n",
       "      <td>0.21</td>\n",
       "      <td>0.3925</td>\n",
       "      <td>0.535</td>\n",
       "      <td>0.8475</td>\n",
       "      <td>0.98</td>\n",
       "    </tr>\n",
       "  </tbody>\n",
       "</table>\n",
       "</div>"
      ],
      "text/plain": [
       "                       count     mean       std    min      25%     50%  \\\n",
       "age                     50.0  25.6000  4.668610  18.00  21.0000  25.000   \n",
       "past_engagement_score   50.0   0.5878  0.240682   0.21   0.3925   0.535   \n",
       "\n",
       "                           75%    max  \n",
       "age                    29.0000  34.00  \n",
       "past_engagement_score   0.8475   0.98  "
      ]
     },
     "execution_count": 13,
     "metadata": {},
     "output_type": "execute_result"
    }
   ],
   "source": [
    "df.describe().T"
   ]
  },
  {
   "cell_type": "code",
   "execution_count": 14,
   "id": "b1af7765-d47a-4ba5-ac9a-e8821a44e245",
   "metadata": {},
   "outputs": [
    {
     "data": {
      "text/html": [
       "<div>\n",
       "<style scoped>\n",
       "    .dataframe tbody tr th:only-of-type {\n",
       "        vertical-align: middle;\n",
       "    }\n",
       "\n",
       "    .dataframe tbody tr th {\n",
       "        vertical-align: top;\n",
       "    }\n",
       "\n",
       "    .dataframe thead th {\n",
       "        text-align: right;\n",
       "    }\n",
       "</style>\n",
       "<table border=\"1\" class=\"dataframe\">\n",
       "  <thead>\n",
       "    <tr style=\"text-align: right;\">\n",
       "      <th></th>\n",
       "      <th>user_id</th>\n",
       "      <th>gender</th>\n",
       "      <th>top_3_interests</th>\n",
       "    </tr>\n",
       "  </thead>\n",
       "  <tbody>\n",
       "    <tr>\n",
       "      <th>count</th>\n",
       "      <td>50</td>\n",
       "      <td>50</td>\n",
       "      <td>50</td>\n",
       "    </tr>\n",
       "    <tr>\n",
       "      <th>unique</th>\n",
       "      <td>50</td>\n",
       "      <td>3</td>\n",
       "      <td>47</td>\n",
       "    </tr>\n",
       "    <tr>\n",
       "      <th>top</th>\n",
       "      <td>U1</td>\n",
       "      <td>M</td>\n",
       "      <td>fashion, food, fitness</td>\n",
       "    </tr>\n",
       "    <tr>\n",
       "      <th>freq</th>\n",
       "      <td>1</td>\n",
       "      <td>25</td>\n",
       "      <td>2</td>\n",
       "    </tr>\n",
       "  </tbody>\n",
       "</table>\n",
       "</div>"
      ],
      "text/plain": [
       "       user_id gender         top_3_interests\n",
       "count       50     50                      50\n",
       "unique      50      3                      47\n",
       "top         U1      M  fashion, food, fitness\n",
       "freq         1     25                       2"
      ]
     },
     "execution_count": 14,
     "metadata": {},
     "output_type": "execute_result"
    }
   ],
   "source": [
    "df.select_dtypes(include='object').describe()"
   ]
  },
  {
   "cell_type": "code",
   "execution_count": 15,
   "id": "434379d8-caf7-485a-99c9-085dd83d0926",
   "metadata": {},
   "outputs": [
    {
     "data": {
      "image/png": "[encoded data removed]",
      "text/plain": [
       "<Figure size 1600x1000 with 2 Axes>"
      ]
     },
     "metadata": {},
     "output_type": "display_data"
    }
   ],
   "source": [
    "import matplotlib.pyplot as plt\n",
    "\n",
    "df.hist(bins=15, figsize=(16, 10), color='cyan', edgecolor='black')\n",
    "\n",
    "# Set titles and labels for each subplot\n",
    "plt.suptitle('Histograms of Columns', fontsize=16)\n",
    "plt.subplots_adjust(hspace=0.5)  # Add space between plots\n",
    "plt.show()"
   ]
  },
  {
   "cell_type": "code",
   "execution_count": 16,
   "id": "7c47bd72-c290-44d7-9dd8-461640fe1da4",
   "metadata": {},
   "outputs": [
    {
     "data": {
      "text/plain": [
       "past_engagement_score\n",
       "0.38    3\n",
       "0.85    3\n",
       "0.61    2\n",
       "0.40    2\n",
       "0.53    2\n",
       "0.93    2\n",
       "0.43    2\n",
       "0.60    2\n",
       "0.98    1\n",
       "0.95    1\n",
       "0.46    1\n",
       "0.62    1\n",
       "0.76    1\n",
       "0.49    1\n",
       "0.23    1\n",
       "0.97    1\n",
       "0.44    1\n",
       "0.30    1\n",
       "0.69    1\n",
       "0.24    1\n",
       "0.42    1\n",
       "0.39    1\n",
       "0.47    1\n",
       "0.54    1\n",
       "0.21    1\n",
       "0.89    1\n",
       "0.29    1\n",
       "0.45    1\n",
       "0.92    1\n",
       "0.63    1\n",
       "0.91    1\n",
       "0.35    1\n",
       "0.84    1\n",
       "0.90    1\n",
       "0.71    1\n",
       "0.94    1\n",
       "0.33    1\n",
       "0.26    1\n",
       "0.80    1\n",
       "0.32    1\n",
       "Name: count, dtype: int64"
      ]
     },
     "execution_count": 16,
     "metadata": {},
     "output_type": "execute_result"
    }
   ],
   "source": [
    "df[\"past_engagement_score\"].value_counts()"
   ]
  },
  {
   "cell_type": "code",
   "execution_count": 17,
   "id": "297d3971-2153-47ad-b9cb-2ab9850dff22",
   "metadata": {},
   "outputs": [
    {
     "data": {
      "image/png": "[encoded data removed]",
      "text/plain": [
       "<Figure size 640x480 with 1 Axes>"
      ]
     },
     "metadata": {},
     "output_type": "display_data"
    }
   ],
   "source": [
    "import matplotlib.pyplot as plt\n",
    "df['age'].value_counts().plot.pie(autopct='%0.1f%%')\n",
    "plt.show()"
   ]
  },
  {
   "cell_type": "code",
   "execution_count": 18,
   "id": "f2c92403-b2c4-4665-8de1-9f3b50a71412",
   "metadata": {},
   "outputs": [
    {
     "name": "stdout",
     "output_type": "stream",
     "text": [
      "user_id  post_id\n",
      "U1       P1         1\n",
      "         P27        1\n",
      "         P32        1\n",
      "U10      P10        1\n",
      "         P23        1\n",
      "                   ..\n",
      "U8       P12        1\n",
      "         P19        1\n",
      "U9       P1         1\n",
      "         P15        1\n",
      "         P20        1\n",
      "Name: count, Length: 150, dtype: int64\n"
     ]
    }
   ],
   "source": [
    "top3_posts = (\n",
    "    df2.groupby('user_id')['post_id']\n",
    "    .value_counts()\n",
    "    .groupby(level=0).head(3)\n",
    ")\n",
    "print(top3_posts)"
   ]
  },
  {
   "cell_type": "raw",
   "id": "1fd81e96-f17d-4156-8f54-0455d94a403f",
   "metadata": {},
   "source": [
    "In the above cell, I recommended top-3 posts for each user using their past engagements. The idea is that if a user has interacted with some posts, they are likely interested in similar posts (profile interests and content attributes are indirectly captured through tags/top_3_interests of the posts)."
   ]
  },
  {
   "cell_type": "code",
   "execution_count": 19,
   "id": "89e4d12a-1580-43ef-8d0b-400407253727",
   "metadata": {},
   "outputs": [
    {
     "data": {
      "image/png": "[encoded data removed]",
      "text/plain": [
       "<Figure size 800x500 with 1 Axes>"
      ]
     },
     "metadata": {},
     "output_type": "display_data"
    }
   ],
   "source": [
    "import matplotlib.pyplot as plt\n",
    "from matplotlib import style\n",
    "\n",
    "# top 3 posts \n",
    "top3_posts = df2['post_id'].value_counts().head(3)\n",
    "\n",
    "style.use('ggplot')\n",
    "plt.figure(figsize=(8,5))\n",
    "plt.plot(top3_posts.index, top3_posts.values, marker='o', color='red', linestyle='-', linewidth=2, markersize=8)\n",
    "\n",
    "plt.xticks(rotation=45, fontsize=10)\n",
    "plt.title('Top 3 Posts', fontsize=16)\n",
    "plt.ylabel('Engagement Count', fontsize=12)\n",
    "\n",
    "for i, value in enumerate(top3_posts.values):\n",
    "    plt.text(i, value + 0.2, str(value), ha='center', fontsize=10, color='black')\n",
    "\n",
    "plt.grid(True, linestyle='--', alpha=0.7)\n",
    "plt.show()"
   ]
  },
  {
   "cell_type": "markdown",
   "id": "e9d6abaa-fb45-451e-bfe9-ea03f25615d2",
   "metadata": {},
   "source": [
    "In summary, this plot illustrates a clear ranking of the top 3 posts based on the \"Engagement Count\" metric. There's a significant drop-off from the top post, followed by a more gradual decline towards the lower end of the top 3."
   ]
  },
  {
   "cell_type": "markdown",
   "id": "0df2e385-2eae-4d7c-a7ac-9653842d5f3b",
   "metadata": {},
   "source": [
    "# Checking Correlation between the features"
   ]
  },
  {
   "cell_type": "code",
   "execution_count": 20,
   "id": "041fecac-4f2f-433a-ae27-40aa5b24fd8f",
   "metadata": {},
   "outputs": [
    {
     "data": {
      "image/png": "[encoded data removed]",
      "text/plain": [
       "<Figure size 800x600 with 2 Axes>"
      ]
     },
     "metadata": {},
     "output_type": "display_data"
    }
   ],
   "source": [
    "import seaborn as sns\n",
    "import matplotlib.pyplot as plt\n",
    "\n",
    "corr = df.corr(numeric_only=True)\n",
    "plt.figure(figsize=(8,6))\n",
    "sns.heatmap(corr, annot=True, cmap=\"coolwarm\", fmt=\".2f\")\n",
    "plt.title(\"Feature Correlation Heatmap\")\n",
    "plt.show()"
   ]
  },
  {
   "cell_type": "code",
   "execution_count": 21,
   "id": "a8d7c3d5-4fe6-409a-9985-8a55a62e6618",
   "metadata": {},
   "outputs": [],
   "source": [
    "import matplotlib.pyplot as plt\n",
    "import seaborn as sns\n",
    "\n",
    "def scatter(df, x, y, title):\n",
    "    plt.figure(figsize=(8, 5))\n",
    "    ax = sns.scatterplot(x=x, y=y, data=df, alpha=0.6, edgecolor=\"w\")\n",
    "    ax.set_title(title, fontsize=14)\n",
    "    plt.show()"
   ]
  },
  {
   "cell_type": "code",
   "execution_count": 22,
   "id": "f32722ff-40cd-4ae7-a41f-06573b74e6df",
   "metadata": {},
   "outputs": [
    {
     "data": {
      "image/png": "[encoded data removed]",
      "text/plain": [
       "<Figure size 800x500 with 1 Axes>"
      ]
     },
     "metadata": {},
     "output_type": "display_data"
    }
   ],
   "source": [
    "scatter(df, \"age\", \"past_engagement_score\", \"Age vs Past Engagement Score\")"
   ]
  },
  {
   "cell_type": "markdown",
   "id": "d6364e99-76ac-42d6-b122-4feac549c1d6",
   "metadata": {},
   "source": [
    "# Detect Outliers"
   ]
  },
  {
   "cell_type": "code",
   "execution_count": 23,
   "id": "08101c55-5101-4c5e-baa5-f6705ce6278c",
   "metadata": {},
   "outputs": [
    {
     "data": {
      "text/plain": [
       "count    50.000000\n",
       "mean      0.587800\n",
       "std       0.240682\n",
       "min       0.210000\n",
       "25%       0.392500\n",
       "50%       0.535000\n",
       "75%       0.847500\n",
       "max       0.980000\n",
       "Name: past_engagement_score, dtype: float64"
      ]
     },
     "execution_count": 23,
     "metadata": {},
     "output_type": "execute_result"
    }
   ],
   "source": [
    "df['past_engagement_score'].describe()"
   ]
  },
  {
   "cell_type": "code",
   "execution_count": 24,
   "id": "d6892911-e611-438c-8230-7bd14cdea97d",
   "metadata": {},
   "outputs": [
    {
     "data": {
      "image/png": "[encoded data removed]",
      "text/plain": [
       "<Figure size 800x800 with 1 Axes>"
      ]
     },
     "metadata": {},
     "output_type": "display_data"
    }
   ],
   "source": [
    "import seaborn as sns\n",
    "import matplotlib.pyplot as plt\n",
    "\n",
    "plt.figure(figsize=(8, 8))\n",
    "sns.boxplot(data=df, y=\"past_engagement_score\", orient=\"v\")\n",
    "plt.show()"
   ]
  },
  {
   "cell_type": "markdown",
   "id": "0ec8fc6b-511c-4040-ba47-3831a7babfbc",
   "metadata": {},
   "source": [
    "# Encode Categorical Features"
   ]
  },
  {
   "cell_type": "code",
   "execution_count": 25,
   "id": "51cc38ee-9fd0-46a7-bce2-8b78f72cd169",
   "metadata": {},
   "outputs": [],
   "source": [
    "# Label Encoding\n",
    "\n",
    "from sklearn.preprocessing import LabelEncoder\n",
    "\n",
    "le = LabelEncoder()\n",
    "\n",
    "# Users single-label features\n",
    "df['gender'] = le.fit_transform(df['gender'])\n",
    "\n",
    "# Posts single-label features\n",
    "df1['creator_id'] = le.fit_transform(df1['creator_id'])\n",
    "df1['content_type'] = le.fit_transform(df1['content_type'])"
   ]
  },
  {
   "cell_type": "code",
   "execution_count": 26,
   "id": "2e803304-21bc-45cc-b7c8-23b18d5b19a5",
   "metadata": {},
   "outputs": [
    {
     "name": "stdout",
     "output_type": "stream",
     "text": [
      "Merged df shape: (1000, 10)\n"
     ]
    }
   ],
   "source": [
    "# IDs should be strings (safe for merging)\n",
    "df['user_id'] = df['user_id'].astype(str)\n",
    "df1['post_id'] = df1['post_id'].astype(str)\n",
    "df2['user_id'] = df2['user_id'].astype(str)\n",
    "df2['post_id'] = df2['post_id'].astype(str)\n",
    "\n",
    "# Merge engagements with users\n",
    "merged_df = df2.merge(df, on='user_id', how='left')\n",
    "\n",
    "# Merge with posts\n",
    "merged_df = merged_df.merge(df1, on='post_id', how='left')\n",
    "\n",
    "print(\"Merged df shape:\", merged_df.shape)"
   ]
  },
  {
   "cell_type": "code",
   "execution_count": 27,
   "id": "ba3b5a0d-403e-4050-877b-d552f027d502",
   "metadata": {},
   "outputs": [
    {
     "data": {
      "text/html": [
       "<div>\n",
       "<style scoped>\n",
       "    .dataframe tbody tr th:only-of-type {\n",
       "        vertical-align: middle;\n",
       "    }\n",
       "\n",
       "    .dataframe tbody tr th {\n",
       "        vertical-align: top;\n",
       "    }\n",
       "\n",
       "    .dataframe thead th {\n",
       "        text-align: right;\n",
       "    }\n",
       "</style>\n",
       "<table border=\"1\" class=\"dataframe\">\n",
       "  <thead>\n",
       "    <tr style=\"text-align: right;\">\n",
       "      <th></th>\n",
       "      <th>user_id</th>\n",
       "      <th>post_id</th>\n",
       "      <th>score</th>\n",
       "    </tr>\n",
       "  </thead>\n",
       "  <tbody>\n",
       "    <tr>\n",
       "      <th>2</th>\n",
       "      <td>U1</td>\n",
       "      <td>P1</td>\n",
       "      <td>1.61</td>\n",
       "    </tr>\n",
       "    <tr>\n",
       "      <th>3</th>\n",
       "      <td>U1</td>\n",
       "      <td>P4</td>\n",
       "      <td>1.61</td>\n",
       "    </tr>\n",
       "    <tr>\n",
       "      <th>4</th>\n",
       "      <td>U1</td>\n",
       "      <td>P65</td>\n",
       "      <td>1.61</td>\n",
       "    </tr>\n",
       "    <tr>\n",
       "      <th>180</th>\n",
       "      <td>U10</td>\n",
       "      <td>P37</td>\n",
       "      <td>1.94</td>\n",
       "    </tr>\n",
       "    <tr>\n",
       "      <th>195</th>\n",
       "      <td>U10</td>\n",
       "      <td>P63</td>\n",
       "      <td>1.94</td>\n",
       "    </tr>\n",
       "    <tr>\n",
       "      <th>...</th>\n",
       "      <td>...</td>\n",
       "      <td>...</td>\n",
       "      <td>...</td>\n",
       "    </tr>\n",
       "    <tr>\n",
       "      <th>140</th>\n",
       "      <td>U8</td>\n",
       "      <td>P98</td>\n",
       "      <td>0.43</td>\n",
       "    </tr>\n",
       "    <tr>\n",
       "      <th>141</th>\n",
       "      <td>U8</td>\n",
       "      <td>P28</td>\n",
       "      <td>0.43</td>\n",
       "    </tr>\n",
       "    <tr>\n",
       "      <th>160</th>\n",
       "      <td>U9</td>\n",
       "      <td>P30</td>\n",
       "      <td>1.33</td>\n",
       "    </tr>\n",
       "    <tr>\n",
       "      <th>169</th>\n",
       "      <td>U9</td>\n",
       "      <td>P55</td>\n",
       "      <td>1.33</td>\n",
       "    </tr>\n",
       "    <tr>\n",
       "      <th>177</th>\n",
       "      <td>U9</td>\n",
       "      <td>P46</td>\n",
       "      <td>1.33</td>\n",
       "    </tr>\n",
       "  </tbody>\n",
       "</table>\n",
       "<p>150 rows × 3 columns</p>\n",
       "</div>"
      ],
      "text/plain": [
       "    user_id post_id  score\n",
       "2        U1      P1   1.61\n",
       "3        U1      P4   1.61\n",
       "4        U1     P65   1.61\n",
       "180     U10     P37   1.94\n",
       "195     U10     P63   1.94\n",
       "..      ...     ...    ...\n",
       "140      U8     P98   0.43\n",
       "141      U8     P28   0.43\n",
       "160      U9     P30   1.33\n",
       "169      U9     P55   1.33\n",
       "177      U9     P46   1.33\n",
       "\n",
       "[150 rows x 3 columns]"
      ]
     },
     "execution_count": 27,
     "metadata": {},
     "output_type": "execute_result"
    }
   ],
   "source": [
    "# just split interests and tags\n",
    "merged_df['top_3_interests'] = merged_df['top_3_interests'].apply(lambda x: str(x).split(','))\n",
    "merged_df['tags'] = merged_df['tags'].apply(lambda x: str(x).split(','))\n",
    "\n",
    "# count how many interests match the post tags\n",
    "merged_df['interest_match'] = 0\n",
    "for i in range(len(merged_df)):\n",
    "    merged_df['interest_match'][i] = len(set(merged_df['top_3_interests'][i]) & set(merged_df['tags'][i]))\n",
    "\n",
    "# make a simple score\n",
    "merged_df['score'] = merged_df['past_engagement_score'] + merged_df['interest_match']\n",
    "\n",
    "# pick top 3 posts for each user\n",
    "top3 = merged_df.sort_values(['user_id','score'], ascending=[True,False]).groupby('user_id').head(3)\n",
    "\n",
    "# show it\n",
    "top3[['user_id','post_id','score']]"
   ]
  },
  {
   "cell_type": "markdown",
   "id": "f197f476-41cc-44ed-a179-50931593f0f5",
   "metadata": {},
   "source": [
    "# Splitting Data to train and test"
   ]
  },
  {
   "cell_type": "code",
   "execution_count": 28,
   "id": "95313bf9-8d1a-4b20-8947-ddab3f8e93c8",
   "metadata": {},
   "outputs": [],
   "source": [
    "# Used a combination of interest_match and past_engagement_score as target\n",
    "merged_df['target_score'] = merged_df['past_engagement_score'] + merged_df['interest_match']\n",
    "\n",
    "X = merged_df[['past_engagement_score','interest_match','gender']]  # simple features\n",
    "y = merged_df['target_score']\n",
    "\n",
    "# Train-test split\n",
    "x_train, x_test, y_train, y_test = train_test_split(X, y, test_size=0.2, random_state=42)"
   ]
  },
  {
   "cell_type": "markdown",
   "id": "e074f5fc-fe41-40b6-a97e-0be615a96f6d",
   "metadata": {},
   "source": [
    "# Creating Model"
   ]
  },
  {
   "cell_type": "code",
   "execution_count": 29,
   "id": "e515fb1f-e46d-43d4-9d92-67ba79f3a67b",
   "metadata": {},
   "outputs": [],
   "source": [
    "# Train RandomForest\n",
    "rf = RandomForestRegressor(n_estimators=100, random_state=42)\n",
    "rf.fit(x_train, y_train)\n",
    "\n",
    "y_pred = rf.predict(x_test)"
   ]
  },
  {
   "cell_type": "markdown",
   "id": "703a2778-7e13-4e81-b654-4f2a5fbdf9cd",
   "metadata": {},
   "source": [
    "# Evaluating Score"
   ]
  },
  {
   "cell_type": "code",
   "execution_count": 30,
   "id": "9c89b7b9-f3e0-4d30-931b-7baa64d088ab",
   "metadata": {},
   "outputs": [
    {
     "name": "stdout",
     "output_type": "stream",
     "text": [
      "R2: 0.9957776430567667\n"
     ]
    }
   ],
   "source": [
    "from sklearn.metrics import r2_score\n",
    "print(\"R2:\", r2_score(y_test, y_pred))"
   ]
  }
 ],
 "metadata": {
  "kernelspec": {
   "display_name": "Python 3 (ipykernel)",
   "language": "python",
   "name": "python3"
  },
  "language_info": {
   "codemirror_mode": {
    "name": "ipython",
    "version": 3
   },
   "file_extension": ".py",
   "mimetype": "text/x-python",
   "name": "python",
   "nbconvert_exporter": "python",
   "pygments_lexer": "ipython3",
   "version": "3.12.7"
  }
 },
 "nbformat": 4,
 "nbformat_minor": 5
}
